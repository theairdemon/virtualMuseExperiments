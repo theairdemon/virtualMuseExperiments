{
 "cells": [
  {
   "cell_type": "markdown",
   "metadata": {},
   "source": [
    "# Hidden Markov Model\n",
    "\n",
    "_Experiments with HMMs on various texts_\n",
    "\n",
    "---"
   ]
  },
  {
   "cell_type": "markdown",
   "metadata": {},
   "source": [
    "### Imports"
   ]
  },
  {
   "cell_type": "code",
   "execution_count": 20,
   "metadata": {},
   "outputs": [],
   "source": [
    "import nltk\n",
    "import random as rand"
   ]
  },
  {
   "cell_type": "code",
   "execution_count": 2,
   "metadata": {},
   "outputs": [],
   "source": [
    "from nltk import corpus\n",
    "gb = corpus.gutenberg"
   ]
  },
  {
   "cell_type": "markdown",
   "metadata": {},
   "source": [
    "### Class Definition"
   ]
  },
  {
   "cell_type": "code",
   "execution_count": 223,
   "metadata": {},
   "outputs": [
    {
     "name": "stdout",
     "output_type": "stream",
     "text": [
      "['austen-emma.txt', 'austen-persuasion.txt', 'austen-sense.txt', 'bible-kjv.txt', 'blake-poems.txt', 'bryant-stories.txt', 'burgess-busterbrown.txt', 'carroll-alice.txt', 'chesterton-ball.txt', 'chesterton-brown.txt', 'chesterton-thursday.txt', 'edgeworth-parents.txt', 'melville-moby_dick.txt', 'milton-paradise.txt', 'shakespeare-caesar.txt', 'shakespeare-hamlet.txt', 'shakespeare-macbeth.txt', 'whitman-leaves.txt']\n"
     ]
    }
   ],
   "source": [
    "print(gb.fileids())\n",
    "whitman = gb.words('whitman-leaves.txt')\n",
    "alice = gb.words('carroll-alice.txt')\n",
    "emma = gb.words('austen-emma.txt')"
   ]
  },
  {
   "cell_type": "code",
   "execution_count": 220,
   "metadata": {},
   "outputs": [],
   "source": [
    "class HMM:\n",
    "    def __init__(self, input_text):\n",
    "        self.text = input_text\n",
    "        self.transitions = {}\n",
    "        self.sentence = \" \"\n",
    "        self.buildHMM()\n",
    "    \n",
    "    def gen(self, length):\n",
    "        self.buildSentence(length)\n",
    "        print(self.sentence)\n",
    "    \n",
    "    def buildHMM(self):\n",
    "        # build basic transition table\n",
    "        for i in range(len(self.text) - 1):\n",
    "            word = self.text[i].lower()\n",
    "            if word not in self.transitions:\n",
    "                self.transitions[word] = {}\n",
    "            next_word = self.text[i+1].lower()\n",
    "            if next_word not in self.transitions[word]:\n",
    "                self.transitions[word][next_word] = 1\n",
    "            else:\n",
    "                self.transitions[word][next_word] += 1\n",
    "        \n",
    "        # normalize probabilities\n",
    "        for word in list(self.transitions.keys()):\n",
    "            total = 0\n",
    "            for next_word in list(self.transitions[word].keys()):\n",
    "                total += self.transitions[word][next_word]\n",
    "            for next_word in list(self.transitions[word].keys()):\n",
    "                self.transitions[word][next_word] /= total\n",
    "                \n",
    "    \n",
    "    def buildSentence(self, length):\n",
    "        \n",
    "        \n",
    "        for i in range(length):\n",
    "            if i == 0:\n",
    "                current = self.randWordText()\n",
    "                self.sentence = current.capitalize()\n",
    "                continue\n",
    "            \n",
    "            current = self.weightedWord(current.lower())\n",
    "            if current == \".\" or current == \"?\" or current == \"!\":\n",
    "                self.sentence += \" \" + current.capitalize()\n",
    "                continue\n",
    "            \n",
    "            if current.isalpha() or current.isnumeric():\n",
    "                if i % 10 == 0:\n",
    "                    self.sentence += \"\\n\" + current.capitalize()\n",
    "                else:\n",
    "                    self.sentence += \" \" + current\n",
    "            else:\n",
    "                self.sentence += current\n",
    "    \n",
    "    def weightedWord(self, current):\n",
    "        rand_val = rand.uniform(0, 1)\n",
    "        total = 0\n",
    "        for k, v in self.transitions[current].items():\n",
    "            total += v\n",
    "            if rand_val <= total:\n",
    "                return k\n",
    "        return rand.choice(list(self.transitions[current].keys()))\n",
    "    \n",
    "    def randWordText(self):\n",
    "        current = rand.choice(self.text)\n",
    "        # make sure the first word is not a symbol\n",
    "        while not current.isalpha():\n",
    "            current = rand.choice(self.text)\n",
    "        return current"
   ]
  },
  {
   "cell_type": "code",
   "execution_count": 221,
   "metadata": {},
   "outputs": [
    {
     "name": "stdout",
     "output_type": "stream",
     "text": [
      "Yet o soul in the emigrant and spheric there within\n",
      "Me as for once to the object, it avails\n",
      "Not for maize, turbulent musical shuttle, back at\n",
      "The inducements shall solve the sea,) o boundless blue ! thou in his voice and how quick from its\n",
      "Embower' d by every one advancing ! lo !\n",
      "O trumpeter free march, revoltress ! thou with me, ascending mount and utter joyous of an ox-\n",
      "Deck the beauty, of men leaning my spirit,\n",
      "Far behind . but include them, martyrs, the\n"
     ]
    }
   ],
   "source": [
    "whitmanHMM = HMM(whitman)\n",
    "whitmanHMM.gen(100)"
   ]
  },
  {
   "cell_type": "code",
   "execution_count": 222,
   "metadata": {},
   "outputs": [
    {
     "name": "stdout",
     "output_type": "stream",
     "text": [
      "Ground-- but she came rather doubtfully: and how\n",
      "She made entirely disappeared;' why do no use\n",
      "In the queen to think ! good way you might\n",
      "As she succeeded in the lizard, and i'\n",
      "T squeeze so suddenly upon a bat ! you have\n",
      "Lessons to sea!\" and half those are,'\n",
      "And, low, it all stopped and an invitation\n",
      "For apples, i breathe when it was very little\n",
      "Glass .' s asleep again!'' t know\n",
      "Whether you are very soon as much frightened by it\n"
     ]
    }
   ],
   "source": [
    "aliceHMM = HMM(alice)\n",
    "aliceHMM.gen(100)"
   ]
  },
  {
   "cell_type": "code",
   "execution_count": 225,
   "metadata": {},
   "outputs": [
    {
     "name": "stdout",
     "output_type": "stream",
     "text": [
      "And all at once, and suffering, too,\n",
      "Though poor mr . if this, however, but\n",
      "Just what do better . if you and, was\n",
      "Convinced . nobody else . woodhouse' s brain during\n",
      "The other any man like him . my own .\n",
      "A pity that was no time . emma engaging .\n",
      "Don' s.\" emma . elton on purpose.\"\" indifferent as propriety.-- my heart at ford'\n",
      "S situation, and a cordial as was engaged.--\n",
      "Very-- no, and emma; i ought,\n"
     ]
    }
   ],
   "source": [
    "emmaHMM = HMM(emma)\n",
    "emmaHMM.gen(100)"
   ]
  },
  {
   "cell_type": "code",
   "execution_count": null,
   "metadata": {},
   "outputs": [],
   "source": []
  }
 ],
 "metadata": {
  "kernelspec": {
   "display_name": "Python 3",
   "language": "python",
   "name": "python3"
  },
  "language_info": {
   "codemirror_mode": {
    "name": "ipython",
    "version": 3
   },
   "file_extension": ".py",
   "mimetype": "text/x-python",
   "name": "python",
   "nbconvert_exporter": "python",
   "pygments_lexer": "ipython3",
   "version": "3.8.3"
  }
 },
 "nbformat": 4,
 "nbformat_minor": 4
}
